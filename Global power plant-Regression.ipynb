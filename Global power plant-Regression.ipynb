{
 "cells": [
  {
   "cell_type": "markdown",
   "metadata": {},
   "source": [
    "country` (text): 3 character country code corresponding to the ISO 3166-1 alpha-3 specification [5]\n",
    "`country_long` (text): longer form of the country designation\n",
    "`name` (text): name or title of the power plant, generally in Romanized form\n",
    "`gppd_idnr` (text): 10 or 12 character identifier for the power plant\n",
    "`capacity_mw` (number): electrical generating capacity in megawatts\n",
    "`latitude` (number): geolocation in decimal degrees; WGS84 (EPSG:4326)\n",
    "`longitude` (number): geolocation in decimal degrees; WGS84 (EPSG:4326)\n",
    "`primary_fuel` (text): energy source used in primary electricity generation or export\n",
    "`other_fuel1` (text): energy source used in electricity generation or export\n",
    "`other_fuel2` (text): energy source used in electricity generation or export\n",
    "`other_fuel3` (text): energy source used in electricity generation or export\n",
    " `commissioning_year` (number): year of plant operation, weighted by unit-capacity when data is available\n",
    "`owner` (text): majority shareholder of the power plant, generally in Romanized form\n",
    "`source` (text): entity reporting the data; could be an organization, report, or document, generally in Romanized form\n",
    "`url` (text): web document corresponding to the `source` field\n",
    "`geolocation_source` (text): attribution for geolocation information\n",
    "`wepp_id` (text): a reference to a unique plant identifier in the widely-used PLATTS-WEPP database.\n",
    "`year_of_capacity_data` (number): year the capacity information was reported\n",
    "`generation_gwh_2013` (number): electricity generation in gigawatt-hours reported for the year 2013\n",
    "`generation_gwh_2014` (number): electricity generation in gigawatt-hours reported for the year 2014\n",
    "`generation_gwh_2015` (number): electricity generation in gigawatt-hours reported for the year 2015\n",
    "`generation_gwh_2016` (number): electricity generation in gigawatt-hours reported for the year 2016\n",
    "`generation_gwh_2017` (number): electricity generation in gigawatt-hours reported for the year 2017\n",
    "`generation_gwh_2018` (number): electricity generation in gigawatt-hours reported for the year 2018\n",
    "`generation_gwh_2019` (number): electricity generation in gigawatt-hours reported for the year 2019\n",
    "`generation_data_source` (text): attribution for the reported generation information\n",
    "`estimated_generation_gwh_2013` (number): estimated electricity generation in gigawatt-hours for the year 2013\n",
    "`estimated_generation_gwh_2014` (number): estimated electricity generation in gigawatt-hours for the year 2014 \n",
    "`estimated_generation_gwh_2015` (number): estimated electricity generation in gigawatt-hours for the year 2015 \n",
    "`estimated_generation_gwh_2016` (number): estimated electricity generation in gigawatt-hours for the year 2016 \n",
    "`estimated_generation_gwh_2017` (number): estimated electricity generation in gigawatt-hours for the year 2017 \n",
    "'estimated_generation_note_2013` (text): label of the model/method used to estimate generation for the year 2013\n",
    "`estimated_generation_note_2014` (text): label of the model/method used to estimate generation for the year 2014 \n",
    "`estimated_generation_note_2015` (text): label of the model/method used to estimate generation for the year 2015\n",
    "`estimated_generation_note_2016` (text): label of the model/method used to estimate generation for the year 2016\n",
    "`estimated_generation_note_2017` (text): label of the model/method used to estimate generation for the year 2017 "
   ]
  },
  {
   "cell_type": "code",
   "execution_count": 37,
   "metadata": {},
   "outputs": [],
   "source": [
    "import pandas as pd\n",
    "import numpy as np\n",
    "import matplotlib.pyplot as plt\n",
    "%matplotlib inline\n",
    "import seaborn as sns\n",
    "\n",
    "from sklearn.preprocessing import MinMaxScaler\n",
    "from sklearn.preprocessing import StandardScaler\n",
    "from sklearn.preprocessing import OrdinalEncoder\n",
    "from sklearn.model_selection import train_test_split\n",
    "from sklearn.metrics import r2_score\n",
    "\n",
    "from sklearn.linear_model import LinearRegression\n",
    "\n",
    "import warnings\n",
    "warnings.filterwarnings('ignore')"
   ]
  },
  {
   "cell_type": "code",
   "execution_count": 2,
   "metadata": {},
   "outputs": [],
   "source": [
    "df = pd.read_csv(\"https://raw.githubusercontent.com/wri/global-power-plant-database/master/source_databases_csv/database_IND.csv\")"
   ]
  },
  {
   "cell_type": "code",
   "execution_count": 3,
   "metadata": {},
   "outputs": [
    {
     "data": {
      "text/html": [
       "<div>\n",
       "<style scoped>\n",
       "    .dataframe tbody tr th:only-of-type {\n",
       "        vertical-align: middle;\n",
       "    }\n",
       "\n",
       "    .dataframe tbody tr th {\n",
       "        vertical-align: top;\n",
       "    }\n",
       "\n",
       "    .dataframe thead th {\n",
       "        text-align: right;\n",
       "    }\n",
       "</style>\n",
       "<table border=\"1\" class=\"dataframe\">\n",
       "  <thead>\n",
       "    <tr style=\"text-align: right;\">\n",
       "      <th></th>\n",
       "      <th>country</th>\n",
       "      <th>country_long</th>\n",
       "      <th>name</th>\n",
       "      <th>gppd_idnr</th>\n",
       "      <th>capacity_mw</th>\n",
       "      <th>latitude</th>\n",
       "      <th>longitude</th>\n",
       "      <th>primary_fuel</th>\n",
       "      <th>other_fuel1</th>\n",
       "      <th>other_fuel2</th>\n",
       "      <th>...</th>\n",
       "      <th>geolocation_source</th>\n",
       "      <th>wepp_id</th>\n",
       "      <th>year_of_capacity_data</th>\n",
       "      <th>generation_gwh_2013</th>\n",
       "      <th>generation_gwh_2014</th>\n",
       "      <th>generation_gwh_2015</th>\n",
       "      <th>generation_gwh_2016</th>\n",
       "      <th>generation_gwh_2017</th>\n",
       "      <th>generation_data_source</th>\n",
       "      <th>estimated_generation_gwh</th>\n",
       "    </tr>\n",
       "  </thead>\n",
       "  <tbody>\n",
       "    <tr>\n",
       "      <th>0</th>\n",
       "      <td>IND</td>\n",
       "      <td>India</td>\n",
       "      <td>ACME Solar Tower</td>\n",
       "      <td>WRI1020239</td>\n",
       "      <td>2.5</td>\n",
       "      <td>28.1839</td>\n",
       "      <td>73.2407</td>\n",
       "      <td>Solar</td>\n",
       "      <td>NaN</td>\n",
       "      <td>NaN</td>\n",
       "      <td>...</td>\n",
       "      <td>National Renewable Energy Laboratory</td>\n",
       "      <td>NaN</td>\n",
       "      <td>NaN</td>\n",
       "      <td>NaN</td>\n",
       "      <td>NaN</td>\n",
       "      <td>NaN</td>\n",
       "      <td>NaN</td>\n",
       "      <td>NaN</td>\n",
       "      <td>NaN</td>\n",
       "      <td>NaN</td>\n",
       "    </tr>\n",
       "    <tr>\n",
       "      <th>1</th>\n",
       "      <td>IND</td>\n",
       "      <td>India</td>\n",
       "      <td>ADITYA CEMENT WORKS</td>\n",
       "      <td>WRI1019881</td>\n",
       "      <td>98.0</td>\n",
       "      <td>24.7663</td>\n",
       "      <td>74.6090</td>\n",
       "      <td>Coal</td>\n",
       "      <td>NaN</td>\n",
       "      <td>NaN</td>\n",
       "      <td>...</td>\n",
       "      <td>WRI</td>\n",
       "      <td>NaN</td>\n",
       "      <td>NaN</td>\n",
       "      <td>NaN</td>\n",
       "      <td>NaN</td>\n",
       "      <td>NaN</td>\n",
       "      <td>NaN</td>\n",
       "      <td>NaN</td>\n",
       "      <td>NaN</td>\n",
       "      <td>NaN</td>\n",
       "    </tr>\n",
       "    <tr>\n",
       "      <th>2</th>\n",
       "      <td>IND</td>\n",
       "      <td>India</td>\n",
       "      <td>AES Saurashtra Windfarms</td>\n",
       "      <td>WRI1026669</td>\n",
       "      <td>39.2</td>\n",
       "      <td>21.9038</td>\n",
       "      <td>69.3732</td>\n",
       "      <td>Wind</td>\n",
       "      <td>NaN</td>\n",
       "      <td>NaN</td>\n",
       "      <td>...</td>\n",
       "      <td>WRI</td>\n",
       "      <td>NaN</td>\n",
       "      <td>NaN</td>\n",
       "      <td>NaN</td>\n",
       "      <td>NaN</td>\n",
       "      <td>NaN</td>\n",
       "      <td>NaN</td>\n",
       "      <td>NaN</td>\n",
       "      <td>NaN</td>\n",
       "      <td>NaN</td>\n",
       "    </tr>\n",
       "    <tr>\n",
       "      <th>3</th>\n",
       "      <td>IND</td>\n",
       "      <td>India</td>\n",
       "      <td>AGARTALA GT</td>\n",
       "      <td>IND0000001</td>\n",
       "      <td>135.0</td>\n",
       "      <td>23.8712</td>\n",
       "      <td>91.3602</td>\n",
       "      <td>Gas</td>\n",
       "      <td>NaN</td>\n",
       "      <td>NaN</td>\n",
       "      <td>...</td>\n",
       "      <td>WRI</td>\n",
       "      <td>NaN</td>\n",
       "      <td>2018.0</td>\n",
       "      <td>631.777928</td>\n",
       "      <td>617.789264</td>\n",
       "      <td>843.747</td>\n",
       "      <td>886.004428</td>\n",
       "      <td>663.774500</td>\n",
       "      <td>Central Electricity Authority</td>\n",
       "      <td>NaN</td>\n",
       "    </tr>\n",
       "    <tr>\n",
       "      <th>4</th>\n",
       "      <td>IND</td>\n",
       "      <td>India</td>\n",
       "      <td>AKALTARA TPP</td>\n",
       "      <td>IND0000002</td>\n",
       "      <td>1800.0</td>\n",
       "      <td>21.9603</td>\n",
       "      <td>82.4091</td>\n",
       "      <td>Coal</td>\n",
       "      <td>Oil</td>\n",
       "      <td>NaN</td>\n",
       "      <td>...</td>\n",
       "      <td>WRI</td>\n",
       "      <td>NaN</td>\n",
       "      <td>2018.0</td>\n",
       "      <td>1668.290000</td>\n",
       "      <td>3035.550000</td>\n",
       "      <td>5916.370</td>\n",
       "      <td>6243.000000</td>\n",
       "      <td>5385.579736</td>\n",
       "      <td>Central Electricity Authority</td>\n",
       "      <td>NaN</td>\n",
       "    </tr>\n",
       "  </tbody>\n",
       "</table>\n",
       "<p>5 rows × 25 columns</p>\n",
       "</div>"
      ],
      "text/plain": [
       "  country country_long                      name   gppd_idnr  capacity_mw  \\\n",
       "0     IND        India          ACME Solar Tower  WRI1020239          2.5   \n",
       "1     IND        India       ADITYA CEMENT WORKS  WRI1019881         98.0   \n",
       "2     IND        India  AES Saurashtra Windfarms  WRI1026669         39.2   \n",
       "3     IND        India               AGARTALA GT  IND0000001        135.0   \n",
       "4     IND        India              AKALTARA TPP  IND0000002       1800.0   \n",
       "\n",
       "   latitude  longitude primary_fuel other_fuel1 other_fuel2  ...  \\\n",
       "0   28.1839    73.2407        Solar         NaN         NaN  ...   \n",
       "1   24.7663    74.6090         Coal         NaN         NaN  ...   \n",
       "2   21.9038    69.3732         Wind         NaN         NaN  ...   \n",
       "3   23.8712    91.3602          Gas         NaN         NaN  ...   \n",
       "4   21.9603    82.4091         Coal         Oil         NaN  ...   \n",
       "\n",
       "                     geolocation_source  wepp_id year_of_capacity_data  \\\n",
       "0  National Renewable Energy Laboratory      NaN                   NaN   \n",
       "1                                   WRI      NaN                   NaN   \n",
       "2                                   WRI      NaN                   NaN   \n",
       "3                                   WRI      NaN                2018.0   \n",
       "4                                   WRI      NaN                2018.0   \n",
       "\n",
       "  generation_gwh_2013 generation_gwh_2014 generation_gwh_2015  \\\n",
       "0                 NaN                 NaN                 NaN   \n",
       "1                 NaN                 NaN                 NaN   \n",
       "2                 NaN                 NaN                 NaN   \n",
       "3          631.777928          617.789264             843.747   \n",
       "4         1668.290000         3035.550000            5916.370   \n",
       "\n",
       "   generation_gwh_2016  generation_gwh_2017         generation_data_source  \\\n",
       "0                  NaN                  NaN                            NaN   \n",
       "1                  NaN                  NaN                            NaN   \n",
       "2                  NaN                  NaN                            NaN   \n",
       "3           886.004428           663.774500  Central Electricity Authority   \n",
       "4          6243.000000          5385.579736  Central Electricity Authority   \n",
       "\n",
       "   estimated_generation_gwh  \n",
       "0                       NaN  \n",
       "1                       NaN  \n",
       "2                       NaN  \n",
       "3                       NaN  \n",
       "4                       NaN  \n",
       "\n",
       "[5 rows x 25 columns]"
      ]
     },
     "execution_count": 3,
     "metadata": {},
     "output_type": "execute_result"
    }
   ],
   "source": [
    "df.head()"
   ]
  },
  {
   "cell_type": "code",
   "execution_count": 4,
   "metadata": {},
   "outputs": [
    {
     "data": {
      "text/plain": [
       "(908, 25)"
      ]
     },
     "execution_count": 4,
     "metadata": {},
     "output_type": "execute_result"
    }
   ],
   "source": [
    "df.shape"
   ]
  },
  {
   "cell_type": "code",
   "execution_count": 5,
   "metadata": {},
   "outputs": [],
   "source": [
    "pd.set_option('display.max_rows', None)"
   ]
  },
  {
   "cell_type": "code",
   "execution_count": 6,
   "metadata": {},
   "outputs": [
    {
     "name": "stdout",
     "output_type": "stream",
     "text": [
      "<class 'pandas.core.frame.DataFrame'>\n",
      "RangeIndex: 908 entries, 0 to 907\n",
      "Data columns (total 25 columns):\n",
      " #   Column                    Non-Null Count  Dtype  \n",
      "---  ------                    --------------  -----  \n",
      " 0   country                   908 non-null    object \n",
      " 1   country_long              908 non-null    object \n",
      " 2   name                      908 non-null    object \n",
      " 3   gppd_idnr                 908 non-null    object \n",
      " 4   capacity_mw               908 non-null    float64\n",
      " 5   latitude                  862 non-null    float64\n",
      " 6   longitude                 862 non-null    float64\n",
      " 7   primary_fuel              908 non-null    object \n",
      " 8   other_fuel1               199 non-null    object \n",
      " 9   other_fuel2               1 non-null      object \n",
      " 10  other_fuel3               0 non-null      float64\n",
      " 11  commissioning_year        528 non-null    float64\n",
      " 12  owner                     342 non-null    object \n",
      " 13  source                    908 non-null    object \n",
      " 14  url                       908 non-null    object \n",
      " 15  geolocation_source        889 non-null    object \n",
      " 16  wepp_id                   0 non-null      float64\n",
      " 17  year_of_capacity_data     520 non-null    float64\n",
      " 18  generation_gwh_2013       384 non-null    float64\n",
      " 19  generation_gwh_2014       401 non-null    float64\n",
      " 20  generation_gwh_2015       425 non-null    float64\n",
      " 21  generation_gwh_2016       437 non-null    float64\n",
      " 22  generation_gwh_2017       443 non-null    float64\n",
      " 23  generation_data_source    450 non-null    object \n",
      " 24  estimated_generation_gwh  0 non-null      float64\n",
      "dtypes: float64(13), object(12)\n",
      "memory usage: 177.5+ KB\n"
     ]
    }
   ],
   "source": [
    "df.info()"
   ]
  },
  {
   "cell_type": "code",
   "execution_count": 7,
   "metadata": {},
   "outputs": [
    {
     "data": {
      "text/plain": [
       "India    908\n",
       "Name: country_long, dtype: int64"
      ]
     },
     "execution_count": 7,
     "metadata": {},
     "output_type": "execute_result"
    }
   ],
   "source": [
    "df['country_long'].value_counts()"
   ]
  },
  {
   "cell_type": "code",
   "execution_count": 8,
   "metadata": {},
   "outputs": [
    {
     "data": {
      "text/plain": [
       "country                       0\n",
       "country_long                  0\n",
       "name                          0\n",
       "gppd_idnr                     0\n",
       "capacity_mw                   0\n",
       "latitude                     46\n",
       "longitude                    46\n",
       "primary_fuel                  0\n",
       "other_fuel1                 709\n",
       "other_fuel2                 907\n",
       "other_fuel3                 908\n",
       "commissioning_year          380\n",
       "owner                       566\n",
       "source                        0\n",
       "url                           0\n",
       "geolocation_source           19\n",
       "wepp_id                     908\n",
       "year_of_capacity_data       388\n",
       "generation_gwh_2013         524\n",
       "generation_gwh_2014         507\n",
       "generation_gwh_2015         483\n",
       "generation_gwh_2016         471\n",
       "generation_gwh_2017         465\n",
       "generation_data_source      458\n",
       "estimated_generation_gwh    908\n",
       "dtype: int64"
      ]
     },
     "execution_count": 8,
     "metadata": {},
     "output_type": "execute_result"
    }
   ],
   "source": [
    "df.isnull().sum()"
   ]
  },
  {
   "cell_type": "code",
   "execution_count": 9,
   "metadata": {},
   "outputs": [],
   "source": [
    "df.drop(['other_fuel1','other_fuel2','other_fuel3','owner','wepp_id','estimated_generation_gwh','commissioning_year','country','country_long','name','gppd_idnr','source','url'],  axis = 1, inplace = True)"
   ]
  },
  {
   "cell_type": "markdown",
   "metadata": {},
   "source": [
    "Dropped all the columns that had NaN values almost close to the number of total number of available values in their respective columns."
   ]
  },
  {
   "cell_type": "code",
   "execution_count": 10,
   "metadata": {},
   "outputs": [
    {
     "data": {
      "image/png": "[encoded data removed]",
      "text/plain": [
       "<Figure size 432x288 with 1 Axes>"
      ]
     },
     "metadata": {
      "needs_background": "light"
     },
     "output_type": "display_data"
    }
   ],
   "source": [
    "sns.boxplot(x=df['generation_gwh_2017']);"
   ]
  },
  {
   "cell_type": "code",
   "execution_count": 11,
   "metadata": {},
   "outputs": [],
   "source": [
    "df['latitude'].fillna(df['latitude'].median(), inplace = True)\n",
    "df['longitude'].fillna(df['longitude'].median(), inplace = True)\n",
    "df['generation_gwh_2013'].fillna(df['generation_gwh_2013'].median(), inplace = True)\n",
    "df['generation_gwh_2014'].fillna(df['generation_gwh_2014'].median(), inplace = True)\n",
    "df['generation_gwh_2015'].fillna(df['generation_gwh_2015'].median(), inplace = True)\n",
    "df['generation_gwh_2016'].fillna(df['generation_gwh_2016'].median(), inplace = True)\n",
    "df['generation_gwh_2017'].fillna(df['generation_gwh_2017'].median(), inplace = True)"
   ]
  },
  {
   "cell_type": "markdown",
   "metadata": {},
   "source": [
    "As the above columns have outliers and outliers impacts mean a lot, so used median to replace the missing values from those columns."
   ]
  },
  {
   "cell_type": "code",
   "execution_count": 12,
   "metadata": {},
   "outputs": [],
   "source": [
    "df['geolocation_source'].fillna(df['geolocation_source'].mode()[0], inplace = True)"
   ]
  },
  {
   "cell_type": "markdown",
   "metadata": {},
   "source": [
    "geolocation_source is a categorical column, so used mode to replace the missing values."
   ]
  },
  {
   "cell_type": "code",
   "execution_count": 13,
   "metadata": {
    "scrolled": false
   },
   "outputs": [],
   "source": [
    "df.fillna({'generation_data_source':'Central Electricity Authority', 'year_of_capacity_data':2018.0}, inplace=True)"
   ]
  },
  {
   "cell_type": "markdown",
   "metadata": {},
   "source": [
    "Successfully handeled all the NaNs"
   ]
  },
  {
   "cell_type": "code",
   "execution_count": 14,
   "metadata": {},
   "outputs": [
    {
     "data": {
      "image/png": "[encoded data removed]",
      "text/plain": [
       "<Figure size 1440x1080 with 12 Axes>"
      ]
     },
     "metadata": {},
     "output_type": "display_data"
    }
   ],
   "source": [
    "plt.figure(figsize = (20,15), facecolor = 'white')\n",
    "plotnumber = 1\n",
    "\n",
    "for column in df:\n",
    "    if plotnumber<=12:\n",
    "       ax = plt.subplot(4,3, plotnumber)\n",
    "       plt.hist(df[column], bins=30)\n",
    "       plt.xlabel(column,fontsize = 20)\n",
    "       \n",
    "    plotnumber += 1\n",
    "    \n",
    "plt.tight_layout()"
   ]
  },
  {
   "cell_type": "markdown",
   "metadata": {},
   "source": [
    "Columns - longitude,capacity_mw,generation_gwh_2013,generation_gwh_2014,generation_gwh_2015,generation_gwh_2016,generation_gwh_2017 have outliers that needs to be treated."
   ]
  },
  {
   "cell_type": "code",
   "execution_count": 15,
   "metadata": {},
   "outputs": [
    {
     "data": {
      "text/plain": [
       "<seaborn.axisgrid.JointGrid at 0x7fcf8a39e310>"
      ]
     },
     "execution_count": 15,
     "metadata": {},
     "output_type": "execute_result"
    },
    {
     "data": {
      "image/png": "[encoded data removed]",
      "text/plain": [
       "<Figure size 432x432 with 3 Axes>"
      ]
     },
     "metadata": {
      "needs_background": "light"
     },
     "output_type": "display_data"
    }
   ],
   "source": [
    "sns.jointplot(x='capacity_mw', y='generation_gwh_2013',data=df)"
   ]
  },
  {
   "cell_type": "code",
   "execution_count": 16,
   "metadata": {},
   "outputs": [
    {
     "data": {
      "text/plain": [
       "<seaborn.axisgrid.JointGrid at 0x7fcf88d74d90>"
      ]
     },
     "execution_count": 16,
     "metadata": {},
     "output_type": "execute_result"
    },
    {
     "data": {
      "image/png": "[encoded data removed]",
      "text/plain": [
       "<Figure size 432x432 with 3 Axes>"
      ]
     },
     "metadata": {
      "needs_background": "light"
     },
     "output_type": "display_data"
    }
   ],
   "source": [
    "sns.jointplot(x='capacity_mw', y='generation_gwh_2014',data=df)"
   ]
  },
  {
   "cell_type": "code",
   "execution_count": 17,
   "metadata": {},
   "outputs": [
    {
     "data": {
      "text/plain": [
       "<seaborn.axisgrid.JointGrid at 0x7fcf89093430>"
      ]
     },
     "execution_count": 17,
     "metadata": {},
     "output_type": "execute_result"
    },
    {
     "data": {
      "image/png": "[encoded data removed]",
      "text/plain": [
       "<Figure size 432x432 with 3 Axes>"
      ]
     },
     "metadata": {
      "needs_background": "light"
     },
     "output_type": "display_data"
    }
   ],
   "source": [
    "sns.jointplot(x='capacity_mw', y='generation_gwh_2015',data=df)"
   ]
  },
  {
   "cell_type": "code",
   "execution_count": 18,
   "metadata": {},
   "outputs": [
    {
     "data": {
      "text/plain": [
       "<seaborn.axisgrid.JointGrid at 0x7fcf8b0a5160>"
      ]
     },
     "execution_count": 18,
     "metadata": {},
     "output_type": "execute_result"
    },
    {
     "data": {
      "image/png": "[encoded data removed]",
      "text/plain": [
       "<Figure size 432x432 with 3 Axes>"
      ]
     },
     "metadata": {
      "needs_background": "light"
     },
     "output_type": "display_data"
    }
   ],
   "source": [
    "sns.jointplot(x='capacity_mw', y='generation_gwh_2016',data=df)"
   ]
  },
  {
   "cell_type": "code",
   "execution_count": 19,
   "metadata": {},
   "outputs": [
    {
     "data": {
      "text/plain": [
       "<seaborn.axisgrid.JointGrid at 0x7fcf8b5cd130>"
      ]
     },
     "execution_count": 19,
     "metadata": {},
     "output_type": "execute_result"
    },
    {
     "data": {
      "image/png": "[encoded data removed]",
      "text/plain": [
       "<Figure size 432x432 with 3 Axes>"
      ]
     },
     "metadata": {
      "needs_background": "light"
     },
     "output_type": "display_data"
    }
   ],
   "source": [
    "sns.jointplot(x='capacity_mw', y='generation_gwh_2017',data=df)"
   ]
  },
  {
   "cell_type": "markdown",
   "metadata": {},
   "source": [
    "We can clearly visualise the outliers in the above jointplots and hist plots."
   ]
  },
  {
   "cell_type": "code",
   "execution_count": 20,
   "metadata": {},
   "outputs": [
    {
     "data": {
      "text/html": [
       "<div>\n",
       "<style scoped>\n",
       "    .dataframe tbody tr th:only-of-type {\n",
       "        vertical-align: middle;\n",
       "    }\n",
       "\n",
       "    .dataframe tbody tr th {\n",
       "        vertical-align: top;\n",
       "    }\n",
       "\n",
       "    .dataframe thead th {\n",
       "        text-align: right;\n",
       "    }\n",
       "</style>\n",
       "<table border=\"1\" class=\"dataframe\">\n",
       "  <thead>\n",
       "    <tr style=\"text-align: right;\">\n",
       "      <th></th>\n",
       "      <th>count</th>\n",
       "      <th>mean</th>\n",
       "      <th>std</th>\n",
       "      <th>min</th>\n",
       "      <th>25%</th>\n",
       "      <th>50%</th>\n",
       "      <th>75%</th>\n",
       "      <th>max</th>\n",
       "    </tr>\n",
       "  </thead>\n",
       "  <tbody>\n",
       "    <tr>\n",
       "      <th>capacity_mw</th>\n",
       "      <td>908.0</td>\n",
       "      <td>321.046378</td>\n",
       "      <td>580.221767</td>\n",
       "      <td>0.0000</td>\n",
       "      <td>16.837500</td>\n",
       "      <td>60.000000</td>\n",
       "      <td>388.125000</td>\n",
       "      <td>4760.000</td>\n",
       "    </tr>\n",
       "    <tr>\n",
       "      <th>latitude</th>\n",
       "      <td>908.0</td>\n",
       "      <td>21.225679</td>\n",
       "      <td>6.089450</td>\n",
       "      <td>8.1689</td>\n",
       "      <td>17.057825</td>\n",
       "      <td>21.778300</td>\n",
       "      <td>25.183775</td>\n",
       "      <td>34.649</td>\n",
       "    </tr>\n",
       "    <tr>\n",
       "      <th>longitude</th>\n",
       "      <td>908.0</td>\n",
       "      <td>77.410936</td>\n",
       "      <td>4.783873</td>\n",
       "      <td>68.6447</td>\n",
       "      <td>74.390250</td>\n",
       "      <td>76.719250</td>\n",
       "      <td>79.211600</td>\n",
       "      <td>95.408</td>\n",
       "    </tr>\n",
       "    <tr>\n",
       "      <th>year_of_capacity_data</th>\n",
       "      <td>908.0</td>\n",
       "      <td>2018.000000</td>\n",
       "      <td>0.000000</td>\n",
       "      <td>2018.0000</td>\n",
       "      <td>2018.000000</td>\n",
       "      <td>2018.000000</td>\n",
       "      <td>2018.000000</td>\n",
       "      <td>2018.000</td>\n",
       "    </tr>\n",
       "    <tr>\n",
       "      <th>generation_gwh_2013</th>\n",
       "      <td>908.0</td>\n",
       "      <td>1434.383254</td>\n",
       "      <td>2575.982982</td>\n",
       "      <td>0.0000</td>\n",
       "      <td>797.063475</td>\n",
       "      <td>797.063475</td>\n",
       "      <td>797.063475</td>\n",
       "      <td>27586.200</td>\n",
       "    </tr>\n",
       "    <tr>\n",
       "      <th>generation_gwh_2014</th>\n",
       "      <td>908.0</td>\n",
       "      <td>1518.830440</td>\n",
       "      <td>2783.474774</td>\n",
       "      <td>0.0000</td>\n",
       "      <td>805.760000</td>\n",
       "      <td>805.760000</td>\n",
       "      <td>805.760000</td>\n",
       "      <td>28127.000</td>\n",
       "    </tr>\n",
       "    <tr>\n",
       "      <th>generation_gwh_2015</th>\n",
       "      <td>908.0</td>\n",
       "      <td>1502.838018</td>\n",
       "      <td>2985.277178</td>\n",
       "      <td>0.0000</td>\n",
       "      <td>701.027250</td>\n",
       "      <td>701.027250</td>\n",
       "      <td>701.027250</td>\n",
       "      <td>30539.000</td>\n",
       "    </tr>\n",
       "    <tr>\n",
       "      <th>generation_gwh_2016</th>\n",
       "      <td>908.0</td>\n",
       "      <td>1552.807503</td>\n",
       "      <td>3006.880849</td>\n",
       "      <td>0.0000</td>\n",
       "      <td>716.728350</td>\n",
       "      <td>716.728350</td>\n",
       "      <td>716.728350</td>\n",
       "      <td>30015.000</td>\n",
       "    </tr>\n",
       "    <tr>\n",
       "      <th>generation_gwh_2017</th>\n",
       "      <td>908.0</td>\n",
       "      <td>1648.790766</td>\n",
       "      <td>3047.577626</td>\n",
       "      <td>0.0000</td>\n",
       "      <td>807.601700</td>\n",
       "      <td>807.601700</td>\n",
       "      <td>807.601700</td>\n",
       "      <td>35116.000</td>\n",
       "    </tr>\n",
       "  </tbody>\n",
       "</table>\n",
       "</div>"
      ],
      "text/plain": [
       "                       count         mean          std        min  \\\n",
       "capacity_mw            908.0   321.046378   580.221767     0.0000   \n",
       "latitude               908.0    21.225679     6.089450     8.1689   \n",
       "longitude              908.0    77.410936     4.783873    68.6447   \n",
       "year_of_capacity_data  908.0  2018.000000     0.000000  2018.0000   \n",
       "generation_gwh_2013    908.0  1434.383254  2575.982982     0.0000   \n",
       "generation_gwh_2014    908.0  1518.830440  2783.474774     0.0000   \n",
       "generation_gwh_2015    908.0  1502.838018  2985.277178     0.0000   \n",
       "generation_gwh_2016    908.0  1552.807503  3006.880849     0.0000   \n",
       "generation_gwh_2017    908.0  1648.790766  3047.577626     0.0000   \n",
       "\n",
       "                               25%          50%          75%        max  \n",
       "capacity_mw              16.837500    60.000000   388.125000   4760.000  \n",
       "latitude                 17.057825    21.778300    25.183775     34.649  \n",
       "longitude                74.390250    76.719250    79.211600     95.408  \n",
       "year_of_capacity_data  2018.000000  2018.000000  2018.000000   2018.000  \n",
       "generation_gwh_2013     797.063475   797.063475   797.063475  27586.200  \n",
       "generation_gwh_2014     805.760000   805.760000   805.760000  28127.000  \n",
       "generation_gwh_2015     701.027250   701.027250   701.027250  30539.000  \n",
       "generation_gwh_2016     716.728350   716.728350   716.728350  30015.000  \n",
       "generation_gwh_2017     807.601700   807.601700   807.601700  35116.000  "
      ]
     },
     "execution_count": 20,
     "metadata": {},
     "output_type": "execute_result"
    }
   ],
   "source": [
    "df.describe().T"
   ]
  },
  {
   "cell_type": "code",
   "execution_count": 21,
   "metadata": {},
   "outputs": [
    {
     "data": {
      "text/plain": [
       "(908, 12)"
      ]
     },
     "execution_count": 21,
     "metadata": {},
     "output_type": "execute_result"
    }
   ],
   "source": [
    "df.shape"
   ]
  },
  {
   "cell_type": "code",
   "execution_count": 22,
   "metadata": {},
   "outputs": [],
   "source": [
    "from scipy.stats import zscore"
   ]
  },
  {
   "cell_type": "code",
   "execution_count": 23,
   "metadata": {},
   "outputs": [
    {
     "data": {
      "text/html": [
       "<div>\n",
       "<style scoped>\n",
       "    .dataframe tbody tr th:only-of-type {\n",
       "        vertical-align: middle;\n",
       "    }\n",
       "\n",
       "    .dataframe tbody tr th {\n",
       "        vertical-align: top;\n",
       "    }\n",
       "\n",
       "    .dataframe thead th {\n",
       "        text-align: right;\n",
       "    }\n",
       "</style>\n",
       "<table border=\"1\" class=\"dataframe\">\n",
       "  <thead>\n",
       "    <tr style=\"text-align: right;\">\n",
       "      <th></th>\n",
       "      <th>capacity_mw</th>\n",
       "      <th>latitude</th>\n",
       "      <th>longitude</th>\n",
       "      <th>year_of_capacity_data</th>\n",
       "      <th>generation_gwh_2013</th>\n",
       "      <th>generation_gwh_2014</th>\n",
       "      <th>generation_gwh_2015</th>\n",
       "      <th>generation_gwh_2016</th>\n",
       "      <th>generation_gwh_2017</th>\n",
       "    </tr>\n",
       "  </thead>\n",
       "  <tbody>\n",
       "    <tr>\n",
       "      <th>count</th>\n",
       "      <td>866.000000</td>\n",
       "      <td>866.000000</td>\n",
       "      <td>866.000000</td>\n",
       "      <td>866.0</td>\n",
       "      <td>866.000000</td>\n",
       "      <td>866.000000</td>\n",
       "      <td>866.000000</td>\n",
       "      <td>866.000000</td>\n",
       "      <td>866.000000</td>\n",
       "    </tr>\n",
       "    <tr>\n",
       "      <th>mean</th>\n",
       "      <td>261.178361</td>\n",
       "      <td>21.130178</td>\n",
       "      <td>76.986239</td>\n",
       "      <td>2018.0</td>\n",
       "      <td>1156.235275</td>\n",
       "      <td>1202.087346</td>\n",
       "      <td>1159.688247</td>\n",
       "      <td>1205.842273</td>\n",
       "      <td>1294.411194</td>\n",
       "    </tr>\n",
       "    <tr>\n",
       "      <th>std</th>\n",
       "      <td>413.719327</td>\n",
       "      <td>6.160689</td>\n",
       "      <td>4.201886</td>\n",
       "      <td>0.0</td>\n",
       "      <td>1391.991858</td>\n",
       "      <td>1478.185718</td>\n",
       "      <td>1531.574396</td>\n",
       "      <td>1597.343037</td>\n",
       "      <td>1645.496201</td>\n",
       "    </tr>\n",
       "    <tr>\n",
       "      <th>min</th>\n",
       "      <td>0.000000</td>\n",
       "      <td>8.168900</td>\n",
       "      <td>68.644700</td>\n",
       "      <td>2018.0</td>\n",
       "      <td>0.000000</td>\n",
       "      <td>0.000000</td>\n",
       "      <td>0.000000</td>\n",
       "      <td>0.000000</td>\n",
       "      <td>0.000000</td>\n",
       "    </tr>\n",
       "    <tr>\n",
       "      <th>25%</th>\n",
       "      <td>16.500000</td>\n",
       "      <td>16.918775</td>\n",
       "      <td>74.313625</td>\n",
       "      <td>2018.0</td>\n",
       "      <td>797.063475</td>\n",
       "      <td>805.760000</td>\n",
       "      <td>701.027250</td>\n",
       "      <td>716.728350</td>\n",
       "      <td>807.601700</td>\n",
       "    </tr>\n",
       "    <tr>\n",
       "      <th>50%</th>\n",
       "      <td>50.400000</td>\n",
       "      <td>21.778300</td>\n",
       "      <td>76.719250</td>\n",
       "      <td>2018.0</td>\n",
       "      <td>797.063475</td>\n",
       "      <td>805.760000</td>\n",
       "      <td>701.027250</td>\n",
       "      <td>716.728350</td>\n",
       "      <td>807.601700</td>\n",
       "    </tr>\n",
       "    <tr>\n",
       "      <th>75%</th>\n",
       "      <td>313.750000</td>\n",
       "      <td>25.136350</td>\n",
       "      <td>78.909025</td>\n",
       "      <td>2018.0</td>\n",
       "      <td>797.063475</td>\n",
       "      <td>805.760000</td>\n",
       "      <td>701.027250</td>\n",
       "      <td>716.728350</td>\n",
       "      <td>807.601700</td>\n",
       "    </tr>\n",
       "    <tr>\n",
       "      <th>max</th>\n",
       "      <td>2000.000000</td>\n",
       "      <td>34.649000</td>\n",
       "      <td>91.565000</td>\n",
       "      <td>2018.0</td>\n",
       "      <td>8965.595000</td>\n",
       "      <td>9335.000000</td>\n",
       "      <td>9453.000000</td>\n",
       "      <td>9887.200000</td>\n",
       "      <td>9271.610000</td>\n",
       "    </tr>\n",
       "  </tbody>\n",
       "</table>\n",
       "</div>"
      ],
      "text/plain": [
       "       capacity_mw    latitude   longitude  year_of_capacity_data  \\\n",
       "count   866.000000  866.000000  866.000000                  866.0   \n",
       "mean    261.178361   21.130178   76.986239                 2018.0   \n",
       "std     413.719327    6.160689    4.201886                    0.0   \n",
       "min       0.000000    8.168900   68.644700                 2018.0   \n",
       "25%      16.500000   16.918775   74.313625                 2018.0   \n",
       "50%      50.400000   21.778300   76.719250                 2018.0   \n",
       "75%     313.750000   25.136350   78.909025                 2018.0   \n",
       "max    2000.000000   34.649000   91.565000                 2018.0   \n",
       "\n",
       "       generation_gwh_2013  generation_gwh_2014  generation_gwh_2015  \\\n",
       "count           866.000000           866.000000           866.000000   \n",
       "mean           1156.235275          1202.087346          1159.688247   \n",
       "std            1391.991858          1478.185718          1531.574396   \n",
       "min               0.000000             0.000000             0.000000   \n",
       "25%             797.063475           805.760000           701.027250   \n",
       "50%             797.063475           805.760000           701.027250   \n",
       "75%             797.063475           805.760000           701.027250   \n",
       "max            8965.595000          9335.000000          9453.000000   \n",
       "\n",
       "       generation_gwh_2016  generation_gwh_2017  \n",
       "count           866.000000           866.000000  \n",
       "mean           1205.842273          1294.411194  \n",
       "std            1597.343037          1645.496201  \n",
       "min               0.000000             0.000000  \n",
       "25%             716.728350           807.601700  \n",
       "50%             716.728350           807.601700  \n",
       "75%             716.728350           807.601700  \n",
       "max            9887.200000          9271.610000  "
      ]
     },
     "execution_count": 23,
     "metadata": {},
     "output_type": "execute_result"
    }
   ],
   "source": [
    "z_score = zscore(df[['longitude', 'capacity_mw', 'generation_gwh_2013', 'generation_gwh_2014', 'generation_gwh_2015','generation_gwh_2016','generation_gwh_2017']])\n",
    "abs_z_score = np.abs(z_score)\n",
    "filtering_entry = (abs_z_score < 3).all(axis =1)\n",
    "df = df[filtering_entry]\n",
    "df.describe()"
   ]
  },
  {
   "cell_type": "code",
   "execution_count": 24,
   "metadata": {},
   "outputs": [
    {
     "data": {
      "text/plain": [
       "(866, 12)"
      ]
     },
     "execution_count": 24,
     "metadata": {},
     "output_type": "execute_result"
    }
   ],
   "source": [
    "df.shape"
   ]
  },
  {
   "cell_type": "code",
   "execution_count": 25,
   "metadata": {},
   "outputs": [
    {
     "data": {
      "text/plain": [
       "0.42"
      ]
     },
     "execution_count": 25,
     "metadata": {},
     "output_type": "execute_result"
    }
   ],
   "source": [
    "#Percentage data loss\n",
    "(908-866)/100"
   ]
  },
  {
   "cell_type": "markdown",
   "metadata": {},
   "source": [
    "As the percentage loss is only 0.42, so considered to remove the outliers."
   ]
  },
  {
   "cell_type": "code",
   "execution_count": 26,
   "metadata": {},
   "outputs": [
    {
     "data": {
      "text/plain": [
       "capacity_mw              2.021865\n",
       "latitude                -0.120533\n",
       "longitude                0.892126\n",
       "year_of_capacity_data    0.000000\n",
       "generation_gwh_2013      3.124673\n",
       "generation_gwh_2014      2.976604\n",
       "generation_gwh_2015      2.766274\n",
       "generation_gwh_2016      2.710642\n",
       "generation_gwh_2017      2.604487\n",
       "dtype: float64"
      ]
     },
     "execution_count": 26,
     "metadata": {},
     "output_type": "execute_result"
    }
   ],
   "source": [
    "df.skew()"
   ]
  },
  {
   "cell_type": "code",
   "execution_count": 27,
   "metadata": {},
   "outputs": [],
   "source": [
    "from scipy.stats import boxcox\n",
    "from sklearn.preprocessing import PowerTransformer\n",
    "import scipy.stats as stats"
   ]
  },
  {
   "cell_type": "code",
   "execution_count": 28,
   "metadata": {},
   "outputs": [],
   "source": [
    "df['capacity_mw'], param = stats.boxcox(df.capacity_mw+1)\n",
    "df['longitude'], param = stats.boxcox(df.longitude+1)\n",
    "df['generation_gwh_2013'], param = stats.boxcox(df.generation_gwh_2013+1)\n",
    "df['generation_gwh_2014'], param = stats.boxcox(df.generation_gwh_2014+1)\n",
    "df['generation_gwh_2015'], param = stats.boxcox(df.generation_gwh_2015+1)\n",
    "df['generation_gwh_2016'], param = stats.boxcox(df.generation_gwh_2016+1)\n",
    "df['generation_gwh_2017'], param = stats.boxcox(df.generation_gwh_2017+1)"
   ]
  },
  {
   "cell_type": "code",
   "execution_count": 29,
   "metadata": {},
   "outputs": [
    {
     "data": {
      "text/plain": [
       "capacity_mw              0.015534\n",
       "latitude                -0.120533\n",
       "longitude                0.000000\n",
       "year_of_capacity_data    0.000000\n",
       "generation_gwh_2013      0.274276\n",
       "generation_gwh_2014      0.230129\n",
       "generation_gwh_2015      0.165323\n",
       "generation_gwh_2016      0.151625\n",
       "generation_gwh_2017      0.128050\n",
       "dtype: float64"
      ]
     },
     "execution_count": 29,
     "metadata": {},
     "output_type": "execute_result"
    }
   ],
   "source": [
    "df.skew()"
   ]
  },
  {
   "cell_type": "markdown",
   "metadata": {},
   "source": [
    "Removed skewness from all non-categorical columns."
   ]
  },
  {
   "cell_type": "code",
   "execution_count": 30,
   "metadata": {},
   "outputs": [],
   "source": [
    "from sklearn.preprocessing import LabelEncoder\n",
    "le = LabelEncoder()\n",
    "df.primary_fuel = le.fit_transform(df.primary_fuel)\n",
    "df.geolocation_source = le.fit_transform(df.geolocation_source)\n",
    "df.generation_data_source = le.fit_transform(df.generation_data_source)"
   ]
  },
  {
   "cell_type": "code",
   "execution_count": 31,
   "metadata": {},
   "outputs": [
    {
     "data": {
      "text/html": [
       "<div>\n",
       "<style scoped>\n",
       "    .dataframe tbody tr th:only-of-type {\n",
       "        vertical-align: middle;\n",
       "    }\n",
       "\n",
       "    .dataframe tbody tr th {\n",
       "        vertical-align: top;\n",
       "    }\n",
       "\n",
       "    .dataframe thead th {\n",
       "        text-align: right;\n",
       "    }\n",
       "</style>\n",
       "<table border=\"1\" class=\"dataframe\">\n",
       "  <thead>\n",
       "    <tr style=\"text-align: right;\">\n",
       "      <th></th>\n",
       "      <th>capacity_mw</th>\n",
       "      <th>latitude</th>\n",
       "      <th>longitude</th>\n",
       "      <th>primary_fuel</th>\n",
       "      <th>geolocation_source</th>\n",
       "      <th>year_of_capacity_data</th>\n",
       "      <th>generation_gwh_2013</th>\n",
       "      <th>generation_gwh_2014</th>\n",
       "      <th>generation_gwh_2015</th>\n",
       "      <th>generation_gwh_2016</th>\n",
       "      <th>generation_gwh_2017</th>\n",
       "      <th>generation_data_source</th>\n",
       "    </tr>\n",
       "  </thead>\n",
       "  <tbody>\n",
       "    <tr>\n",
       "      <th>0</th>\n",
       "      <td>1.232045</td>\n",
       "      <td>28.1839</td>\n",
       "      <td>0.232929</td>\n",
       "      <td>6</td>\n",
       "      <td>1</td>\n",
       "      <td>2018.0</td>\n",
       "      <td>20.476117</td>\n",
       "      <td>21.162239</td>\n",
       "      <td>17.749344</td>\n",
       "      <td>17.649931</td>\n",
       "      <td>19.890346</td>\n",
       "      <td>0</td>\n",
       "    </tr>\n",
       "    <tr>\n",
       "      <th>1</th>\n",
       "      <td>4.324441</td>\n",
       "      <td>24.7663</td>\n",
       "      <td>0.232929</td>\n",
       "      <td>1</td>\n",
       "      <td>2</td>\n",
       "      <td>2018.0</td>\n",
       "      <td>20.476117</td>\n",
       "      <td>21.162239</td>\n",
       "      <td>17.749344</td>\n",
       "      <td>17.649931</td>\n",
       "      <td>19.890346</td>\n",
       "      <td>0</td>\n",
       "    </tr>\n",
       "    <tr>\n",
       "      <th>2</th>\n",
       "      <td>3.517571</td>\n",
       "      <td>21.9038</td>\n",
       "      <td>0.232929</td>\n",
       "      <td>7</td>\n",
       "      <td>2</td>\n",
       "      <td>2018.0</td>\n",
       "      <td>20.476117</td>\n",
       "      <td>21.162239</td>\n",
       "      <td>17.749344</td>\n",
       "      <td>17.649931</td>\n",
       "      <td>19.890346</td>\n",
       "      <td>0</td>\n",
       "    </tr>\n",
       "    <tr>\n",
       "      <th>3</th>\n",
       "      <td>4.604128</td>\n",
       "      <td>23.8712</td>\n",
       "      <td>0.232929</td>\n",
       "      <td>2</td>\n",
       "      <td>2</td>\n",
       "      <td>2018.0</td>\n",
       "      <td>18.919952</td>\n",
       "      <td>19.306627</td>\n",
       "      <td>18.835503</td>\n",
       "      <td>18.879379</td>\n",
       "      <td>18.630634</td>\n",
       "      <td>0</td>\n",
       "    </tr>\n",
       "    <tr>\n",
       "      <th>4</th>\n",
       "      <td>6.793643</td>\n",
       "      <td>21.9603</td>\n",
       "      <td>0.232929</td>\n",
       "      <td>1</td>\n",
       "      <td>2</td>\n",
       "      <td>2018.0</td>\n",
       "      <td>26.181181</td>\n",
       "      <td>32.972615</td>\n",
       "      <td>34.177969</td>\n",
       "      <td>34.105614</td>\n",
       "      <td>36.468032</td>\n",
       "      <td>0</td>\n",
       "    </tr>\n",
       "  </tbody>\n",
       "</table>\n",
       "</div>"
      ],
      "text/plain": [
       "   capacity_mw  latitude  longitude  primary_fuel  geolocation_source  \\\n",
       "0     1.232045   28.1839   0.232929             6                   1   \n",
       "1     4.324441   24.7663   0.232929             1                   2   \n",
       "2     3.517571   21.9038   0.232929             7                   2   \n",
       "3     4.604128   23.8712   0.232929             2                   2   \n",
       "4     6.793643   21.9603   0.232929             1                   2   \n",
       "\n",
       "   year_of_capacity_data  generation_gwh_2013  generation_gwh_2014  \\\n",
       "0                 2018.0            20.476117            21.162239   \n",
       "1                 2018.0            20.476117            21.162239   \n",
       "2                 2018.0            20.476117            21.162239   \n",
       "3                 2018.0            18.919952            19.306627   \n",
       "4                 2018.0            26.181181            32.972615   \n",
       "\n",
       "   generation_gwh_2015  generation_gwh_2016  generation_gwh_2017  \\\n",
       "0            17.749344            17.649931            19.890346   \n",
       "1            17.749344            17.649931            19.890346   \n",
       "2            17.749344            17.649931            19.890346   \n",
       "3            18.835503            18.879379            18.630634   \n",
       "4            34.177969            34.105614            36.468032   \n",
       "\n",
       "   generation_data_source  \n",
       "0                       0  \n",
       "1                       0  \n",
       "2                       0  \n",
       "3                       0  \n",
       "4                       0  "
      ]
     },
     "execution_count": 31,
     "metadata": {},
     "output_type": "execute_result"
    }
   ],
   "source": [
    "df.head()"
   ]
  },
  {
   "cell_type": "code",
   "execution_count": 32,
   "metadata": {},
   "outputs": [],
   "source": [
    "y = df['capacity_mw']\n",
    "X = df.drop(columns = ['capacity_mw'])"
   ]
  },
  {
   "cell_type": "code",
   "execution_count": 33,
   "metadata": {},
   "outputs": [
    {
     "data": {
      "text/plain": [
       "capacity_mw               1.000000\n",
       "geolocation_source        0.472044\n",
       "generation_gwh_2016       0.354912\n",
       "longitude                 0.340313\n",
       "generation_gwh_2017       0.333752\n",
       "generation_gwh_2015       0.327760\n",
       "generation_gwh_2014       0.306462\n",
       "generation_gwh_2013       0.298831\n",
       "latitude                  0.054932\n",
       "primary_fuel             -0.519129\n",
       "year_of_capacity_data          NaN\n",
       "generation_data_source         NaN\n",
       "Name: capacity_mw, dtype: float64"
      ]
     },
     "execution_count": 33,
     "metadata": {},
     "output_type": "execute_result"
    }
   ],
   "source": [
    "corr_matrix = df.corr()\n",
    "corr_matrix[\"capacity_mw\"].sort_values(ascending=False)"
   ]
  },
  {
   "cell_type": "code",
   "execution_count": 34,
   "metadata": {},
   "outputs": [
    {
     "data": {
      "text/plain": [
       "1.749580    38\n",
       "2.322753    22\n",
       "5.881906    21\n",
       "2.672459    19\n",
       "6.460145    19\n",
       "0.686773    18\n",
       "2.924077    18\n",
       "3.281277    16\n",
       "5.728122    14\n",
       "3.732499    14\n",
       "4.342127    13\n",
       "3.893321    11\n",
       "5.293593    11\n",
       "3.084446    11\n",
       "3.120418    11\n",
       "6.309039    10\n",
       "4.501469     9\n",
       "2.728713     9\n",
       "1.360954     8\n",
       "2.479099     8\n",
       "2.233240     8\n",
       "4.249824     8\n",
       "3.442328     8\n",
       "3.739532     7\n",
       "5.102131     7\n",
       "3.535421     7\n",
       "5.137230     7\n",
       "2.364424     7\n",
       "1.896228     7\n",
       "6.538854     6\n",
       "1.575351     6\n",
       "4.089751     6\n",
       "1.082657     6\n",
       "2.966939     6\n",
       "2.755578     6\n",
       "4.695765     6\n",
       "3.007845     5\n",
       "5.203313     5\n",
       "2.831683     5\n",
       "5.619884     5\n",
       "3.417438     5\n",
       "3.027619     5\n",
       "6.349545     4\n",
       "6.551255     4\n",
       "6.644117     4\n",
       "4.146461     4\n",
       "5.375071     4\n",
       "4.537075     4\n",
       "4.604128     4\n",
       "3.639469     4\n",
       "5.793122     4\n",
       "3.137875     4\n",
       "5.922941     4\n",
       "4.987096     4\n",
       "5.657560     3\n",
       "1.526181     3\n",
       "6.372910     3\n",
       "4.333329     3\n",
       "3.338273     3\n",
       "4.306383     3\n",
       "5.538964     3\n",
       "6.500461     3\n",
       "5.962020     3\n",
       "6.697128     3\n",
       "1.974218     3\n",
       "3.578526     3\n",
       "3.220374     3\n",
       "1.666536     3\n",
       "1.495387     3\n",
       "3.365455     3\n",
       "3.658880     3\n",
       "2.419739     3\n",
       "5.580411     3\n",
       "6.871526     3\n",
       "4.751803     3\n",
       "3.154997     3\n",
       "4.853881     3\n",
       "0.905174     3\n",
       "5.761262     2\n",
       "4.944980     2\n",
       "6.221394     2\n",
       "6.879727     2\n",
       "3.517571     2\n",
       "3.816600     2\n",
       "3.324364     2\n",
       "5.046574     2\n",
       "3.977283     2\n",
       "6.239697     2\n",
       "5.425280     2\n",
       "4.029073     2\n",
       "6.034991     2\n",
       "2.874439     2\n",
       "2.915253     2\n",
       "4.120269     2\n",
       "3.936312     2\n",
       "5.264568     2\n",
       "3.749978     2\n",
       "5.080346     2\n",
       "2.514324     2\n",
       "3.050784     2\n",
       "5.744859     2\n",
       "3.696461     2\n",
       "5.027210     2\n",
       "3.997067     2\n",
       "1.114486     2\n",
       "4.134299     2\n",
       "0.980198     2\n",
       "1.929528     2\n",
       "6.557385     2\n",
       "4.053855     2\n",
       "4.425488     2\n",
       "2.580923     2\n",
       "2.781667     2\n",
       "6.587349     2\n",
       "5.638937     2\n",
       "6.123136     2\n",
       "6.069171     2\n",
       "3.127442     2\n",
       "3.478397     2\n",
       "5.946611     2\n",
       "5.693594     1\n",
       "3.998370     1\n",
       "4.096755     1\n",
       "5.378943     1\n",
       "3.298764     1\n",
       "5.584444     1\n",
       "2.879066     1\n",
       "2.779092     1\n",
       "4.829489     1\n",
       "4.408478     1\n",
       "3.501650     1\n",
       "3.565814     1\n",
       "3.775559     1\n",
       "3.619620     1\n",
       "2.865111     1\n",
       "4.923108     1\n",
       "3.370793     1\n",
       "5.234500     1\n",
       "4.295364     1\n",
       "6.439204     1\n",
       "2.651914     1\n",
       "1.780824     1\n",
       "3.744771     1\n",
       "3.360085     1\n",
       "6.178640     1\n",
       "3.930701     1\n",
       "6.140086     1\n",
       "3.422472     1\n",
       "4.630794     1\n",
       "3.251347     1\n",
       "4.778495     1\n",
       "4.390628     1\n",
       "2.314186     1\n",
       "5.517437     1\n",
       "5.753101     1\n",
       "6.101976     1\n",
       "5.895814     1\n",
       "3.295873     1\n",
       "5.951780     1\n",
       "2.910809     1\n",
       "3.800414     1\n",
       "6.139267     1\n",
       "4.724245     1\n",
       "3.148187     1\n",
       "4.013857     1\n",
       "2.498290     1\n",
       "6.202669     1\n",
       "2.999812     1\n",
       "5.816232     1\n",
       "1.622058     1\n",
       "4.613748     1\n",
       "3.513051     1\n",
       "5.875146     1\n",
       "3.188285     1\n",
       "6.793643     1\n",
       "4.555021     1\n",
       "3.321555     1\n",
       "4.786342     1\n",
       "2.343826     1\n",
       "5.648301     1\n",
       "6.423134     1\n",
       "3.391828     1\n",
       "3.971930     1\n",
       "5.630748     1\n",
       "3.402161     1\n",
       "3.113338     1\n",
       "4.464319     1\n",
       "5.564121     1\n",
       "4.882254     1\n",
       "6.727326     1\n",
       "5.579056     1\n",
       "4.597655     1\n",
       "6.014801     1\n",
       "6.620762     1\n",
       "1.612902     1\n",
       "4.162775     1\n",
       "2.134021     1\n",
       "4.077950     1\n",
       "5.942714     1\n",
       "3.943276     1\n",
       "5.977144     1\n",
       "3.315912     1\n",
       "6.545079     1\n",
       "2.046125     1\n",
       "6.388120     1\n",
       "4.238054     1\n",
       "3.939104     1\n",
       "4.584559     1\n",
       "2.663711     1\n",
       "3.269426     1\n",
       "6.091187     1\n",
       "4.262877     1\n",
       "3.144763     1\n",
       "1.430580     1\n",
       "4.024030     1\n",
       "5.888889     1\n",
       "4.660283     1\n",
       "3.381373     1\n",
       "5.428757     1\n",
       "1.936046     1\n",
       "2.941468     1\n",
       "5.031119     1\n",
       "5.376363     1\n",
       "5.500918     1\n",
       "6.451834     1\n",
       "5.321644     1\n",
       "6.746843     1\n",
       "4.349102     1\n",
       "6.866183     1\n",
       "2.545567     1\n",
       "6.212086     1\n",
       "5.170921     1\n",
       "2.791895     1\n",
       "4.936299     1\n",
       "1.232045     1\n",
       "5.526115     1\n",
       "6.300689     1\n",
       "2.636947     1\n",
       "5.999319     1\n",
       "3.480750     1\n",
       "1.717247     1\n",
       "5.595435     1\n",
       "2.265575     1\n",
       "2.534821     1\n",
       "4.384817     1\n",
       "6.541973     1\n",
       "2.175005     1\n",
       "3.929293     1\n",
       "6.467006     1\n",
       "4.359458     1\n",
       "2.561451     1\n",
       "3.808545     1\n",
       "3.557237     1\n",
       "4.315459     1\n",
       "3.950184     1\n",
       "1.015597     1\n",
       "5.210589     1\n",
       "4.909708     1\n",
       "3.226656     1\n",
       "4.324441     1\n",
       "1.160304     1\n",
       "3.725409     1\n",
       "5.335325     1\n",
       "6.089012     1\n",
       "2.683994     1\n",
       "3.001424     1\n",
       "3.599312     1\n",
       "4.814510     1\n",
       "5.204900     1\n",
       "3.198034     1\n",
       "4.544022     1\n",
       "1.204000     1\n",
       "2.184972     1\n",
       "5.069238     1\n",
       "6.570226     1\n",
       "2.080078     1\n",
       "4.267185     1\n",
       "4.289801     1\n",
       "6.163874     1\n",
       "5.513064     1\n",
       "4.398042     1\n",
       "4.350836     1\n",
       "6.487245     1\n",
       "4.500013     1\n",
       "6.861571     1\n",
       "6.627505     1\n",
       "6.017350     1\n",
       "4.462419     1\n",
       "4.330672     1\n",
       "2.958528     1\n",
       "2.296807     1\n",
       "4.297210     1\n",
       "3.419959     1\n",
       "5.530420     1\n",
       "2.449903     1\n",
       "3.141325     1\n",
       "2.404274     1\n",
       "5.955635     1\n",
       "3.385308     1\n",
       "1.868698     1\n",
       "3.449661     1\n",
       "3.963839     1\n",
       "5.483089     1\n",
       "2.807022     1\n",
       "4.967310     1\n",
       "6.042634     1\n",
       "4.453622     1\n",
       "6.337605     1\n",
       "3.881489     1\n",
       "4.757209     1\n",
       "6.341605     1\n",
       "3.303082     1\n",
       "5.123365     1\n",
       "4.571259     1\n",
       "3.408558     1\n",
       "6.395618     1\n",
       "3.780587     1\n",
       "4.883184     1\n",
       "3.229780     1\n",
       "4.635780     1\n",
       "5.514160     1\n",
       "6.722372     1\n",
       "3.836421     1\n",
       "4.393107     1\n",
       "3.351968     1\n",
       "6.671061     1\n",
       "3.714665     1\n",
       "4.974680     1\n",
       "3.209274     1\n",
       "4.730385     1\n",
       "5.673194     1\n",
       "3.927882     1\n",
       "3.039276     1\n",
       "5.603506     1\n",
       "3.588980     1\n",
       "5.348785     1\n",
       "6.417705     1\n",
       "6.569505     1\n",
       "5.629465     1\n",
       "3.168461     1\n",
       "3.649228     1\n",
       "2.261025     1\n",
       "3.461748     1\n",
       "0.000000     1\n",
       "Name: capacity_mw, dtype: int64"
      ]
     },
     "execution_count": 34,
     "metadata": {},
     "output_type": "execute_result"
    }
   ],
   "source": [
    "y.value_counts()"
   ]
  },
  {
   "cell_type": "code",
   "execution_count": 44,
   "metadata": {},
   "outputs": [],
   "source": [
    "from sklearn.metrics import r2_score"
   ]
  },
  {
   "cell_type": "code",
   "execution_count": 45,
   "metadata": {},
   "outputs": [],
   "source": [
    "scaler = StandardScaler()\n",
    "X_scaled = scaler.fit_transform(X)"
   ]
  },
  {
   "cell_type": "code",
   "execution_count": 47,
   "metadata": {},
   "outputs": [
    {
     "name": "stdout",
     "output_type": "stream",
     "text": [
      "Best accuracy is 0.5783911836837329 on Random_state 24\n"
     ]
    }
   ],
   "source": [
    "from sklearn.linear_model import LinearRegression\n",
    "maxAccu = 0\n",
    "maxRS = 0\n",
    "for i in range(1,200):\n",
    "    x_train,x_test,y_train,y_test=train_test_split(X_scaled,y,test_size = 0.25,random_state = i)\n",
    "    LR = LinearRegression()\n",
    "    LR.fit(x_train,y_train)\n",
    "    predrf = LR.predict(x_test)\n",
    "    acc = r2_score(y_test,predrf)\n",
    "    if acc>maxAccu:\n",
    "       maxAccu=acc\n",
    "       maxRS = i\n",
    "print (\"Best accuracy is\", maxAccu, \"on Random_state\", maxRS)"
   ]
  },
  {
   "cell_type": "code",
   "execution_count": 48,
   "metadata": {},
   "outputs": [
    {
     "data": {
      "text/plain": [
       "774    1.360954\n",
       "30     2.915253\n",
       "509    1.360954\n",
       "473    6.309039\n",
       "415    6.879727\n",
       "Name: capacity_mw, dtype: float64"
      ]
     },
     "execution_count": 48,
     "metadata": {},
     "output_type": "execute_result"
    }
   ],
   "source": [
    "x_train,x_test,y_train,y_test=train_test_split(X_scaled,y,test_size = 0.25,random_state = maxRS)\n",
    "y_train.head()"
   ]
  },
  {
   "cell_type": "code",
   "execution_count": 49,
   "metadata": {},
   "outputs": [
    {
     "data": {
      "text/plain": [
       "LinearRegression()"
      ]
     },
     "execution_count": 49,
     "metadata": {},
     "output_type": "execute_result"
    }
   ],
   "source": [
    "log_reg = LinearRegression()\n",
    "\n",
    "log_reg.fit(x_train,y_train)"
   ]
  },
  {
   "cell_type": "code",
   "execution_count": 50,
   "metadata": {},
   "outputs": [],
   "source": [
    "y_pred = log_reg.predict(x_test)"
   ]
  },
  {
   "cell_type": "code",
   "execution_count": 51,
   "metadata": {},
   "outputs": [
    {
     "name": "stdout",
     "output_type": "stream",
     "text": [
      "0.5783911836837329\n"
     ]
    }
   ],
   "source": [
    "print(r2_score(y_test,y_pred))"
   ]
  },
  {
   "cell_type": "code",
   "execution_count": 52,
   "metadata": {},
   "outputs": [
    {
     "data": {
      "text/plain": [
       "LassoCV(normalize=True)"
      ]
     },
     "execution_count": 52,
     "metadata": {},
     "output_type": "execute_result"
    }
   ],
   "source": [
    "from sklearn.linear_model import Lasso,LassoCV\n",
    "lasscv = LassoCV(alphas = None, max_iter = 1000, normalize = True)\n",
    "lasscv.fit(x_train, y_train)"
   ]
  },
  {
   "cell_type": "code",
   "execution_count": 53,
   "metadata": {},
   "outputs": [],
   "source": [
    "alpha = lasscv.alpha_"
   ]
  },
  {
   "cell_type": "code",
   "execution_count": 54,
   "metadata": {},
   "outputs": [
    {
     "data": {
      "text/plain": [
       "0.0003795914613950725"
      ]
     },
     "execution_count": 54,
     "metadata": {},
     "output_type": "execute_result"
    }
   ],
   "source": [
    "alpha"
   ]
  },
  {
   "cell_type": "code",
   "execution_count": 55,
   "metadata": {},
   "outputs": [
    {
     "data": {
      "text/plain": [
       "Lasso(alpha=0.0003795914613950725)"
      ]
     },
     "execution_count": 55,
     "metadata": {},
     "output_type": "execute_result"
    }
   ],
   "source": [
    "lasso_reg = Lasso(alpha)\n",
    "lasso_reg.fit(x_train, y_train)"
   ]
  },
  {
   "cell_type": "code",
   "execution_count": 56,
   "metadata": {},
   "outputs": [
    {
     "data": {
      "text/plain": [
       "0.5782556305740931"
      ]
     },
     "execution_count": 56,
     "metadata": {},
     "output_type": "execute_result"
    }
   ],
   "source": [
    "lasso_reg.score(x_test,y_test)"
   ]
  },
  {
   "cell_type": "code",
   "execution_count": 57,
   "metadata": {},
   "outputs": [],
   "source": [
    "from sklearn.model_selection import cross_val_score\n",
    "from sklearn.model_selection import GridSearchCV"
   ]
  },
  {
   "cell_type": "code",
   "execution_count": 58,
   "metadata": {},
   "outputs": [
    {
     "name": "stdout",
     "output_type": "stream",
     "text": [
      "{'alpha': 0.01, 'random_state': 0}\n"
     ]
    }
   ],
   "source": [
    "from sklearn.linear_model import Lasso\n",
    "\n",
    "parameters = {'alpha':[.0001, .001, .01, .1, 10], 'random_state': list(range(0,10))}\n",
    "ls = Lasso()\n",
    "clf = GridSearchCV(ls,parameters)\n",
    "clf.fit(x_train,y_train)\n",
    "\n",
    "print(clf.best_params_)"
   ]
  },
  {
   "cell_type": "code",
   "execution_count": 59,
   "metadata": {},
   "outputs": [
    {
     "data": {
      "text/plain": [
       "0.5746615789067426"
      ]
     },
     "execution_count": 59,
     "metadata": {},
     "output_type": "execute_result"
    }
   ],
   "source": [
    "ls = Lasso(alpha=0.01,random_state=0)\n",
    "ls.fit(x_train,y_train)\n",
    "ls.score(x_train,y_train)\n",
    "pred_ls = ls.predict(x_test)\n",
    "\n",
    "lss = r2_score(y_test,pred_ls)\n",
    "lss"
   ]
  },
  {
   "cell_type": "code",
   "execution_count": 60,
   "metadata": {},
   "outputs": [],
   "source": [
    "cv_score=cross_val_score(ls,X,y,cv=5)\n",
    "cv_mean=cv_score.mean"
   ]
  },
  {
   "cell_type": "code",
   "execution_count": 61,
   "metadata": {},
   "outputs": [
    {
     "data": {
      "text/plain": [
       "0.409115657477545"
      ]
     },
     "execution_count": 61,
     "metadata": {},
     "output_type": "execute_result"
    }
   ],
   "source": [
    "cv_mean()"
   ]
  },
  {
   "cell_type": "code",
   "execution_count": 62,
   "metadata": {},
   "outputs": [
    {
     "name": "stdout",
     "output_type": "stream",
     "text": [
      "{'criterion': 'mse', 'max_features': 'log2'}\n"
     ]
    }
   ],
   "source": [
    "from sklearn.model_selection import GridSearchCV\n",
    "from sklearn.ensemble import RandomForestRegressor\n",
    "\n",
    "parameters = {'criterion':['mse', 'mae'], 'max_features': [\"auto\", \"sqrt\", \"log2\"]}\n",
    "rf =RandomForestRegressor()\n",
    "clf=GridSearchCV(rf,parameters)\n",
    "clf.fit(x_train,y_train)\n",
    "\n",
    "print(clf.best_params_)"
   ]
  },
  {
   "cell_type": "code",
   "execution_count": 63,
   "metadata": {},
   "outputs": [
    {
     "name": "stdout",
     "output_type": "stream",
     "text": [
      "R2 score: 84.8174822592188\n",
      "Cross Val Score: 77.2105860104854\n"
     ]
    }
   ],
   "source": [
    "rf= RandomForestRegressor(criterion=\"mse\",max_features=\"log2\")\n",
    "rf.fit(x_train,y_train)\n",
    "rf.score(x_train,y_train)\n",
    "pred_decision = dt.predict(x_test)\n",
    "\n",
    "rfs = r2_score(y_test,pred_decision)\n",
    "print('R2 score:',rfs*100)\n",
    "\n",
    "rfscore =  cross_val_score(rf,X,y,cv=5)\n",
    "rfc=  rfscore.mean()\n",
    "print('Cross Val Score:', rfc*100)"
   ]
  },
  {
   "cell_type": "code",
   "execution_count": 65,
   "metadata": {},
   "outputs": [
    {
     "name": "stdout",
     "output_type": "stream",
     "text": [
      "R2 score: 84.8174822592188\n",
      "Cross Val Score: 60.87801390375495\n"
     ]
    }
   ],
   "source": [
    "from sklearn.tree import DecisionTreeRegressor\n",
    "dt= DecisionTreeRegressor(criterion=\"mse\",max_features=\"log2\")\n",
    "dt.fit(x_train,y_train)\n",
    "dt.score(x_train,y_train)\n",
    "pred_decision = dt.predict(x_test)\n",
    "\n",
    "dts = r2_score(y_test,pred_decision)\n",
    "print('R2 score:',rfs*100)\n",
    "\n",
    "dtscore =  cross_val_score(dt,X,y,cv=5)\n",
    "dtc=  dtscore.mean()\n",
    "print('Cross Val Score:', dtc*100)"
   ]
  },
  {
   "cell_type": "code",
   "execution_count": 66,
   "metadata": {},
   "outputs": [],
   "source": [
    "import pickle\n",
    "filename = 'Global power plant.pkl'\n",
    "pickle.dump(rf, open(filename, 'wb'))"
   ]
  },
  {
   "cell_type": "code",
   "execution_count": null,
   "metadata": {},
   "outputs": [],
   "source": []
  }
 ],
 "metadata": {
  "kernelspec": {
   "display_name": "Python 3",
   "language": "python",
   "name": "python3"
  },
  "language_info": {
   "codemirror_mode": {
    "name": "ipython",
    "version": 3
   },
   "file_extension": ".py",
   "mimetype": "text/x-python",
   "name": "python",
   "nbconvert_exporter": "python",
   "pygments_lexer": "ipython3",
   "version": "3.8.5"
  }
 },
 "nbformat": 4,
 "nbformat_minor": 4
}
